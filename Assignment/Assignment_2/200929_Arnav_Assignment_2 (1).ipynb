{
 "cells": [
  {
   "cell_type": "markdown",
   "metadata": {
    "id": "rvFM645NE-D2"
   },
   "source": [
    "# Assignment 2\n",
    "In this assignment, we will go through Perceptron, Linear Classifiers, Loss Functions, Gradient Descent and Back Propagation.\n",
    "\n",
    "\n",
    "PS. this one is not from Stanford's course.\n",
    "\n",
    "\n",
    "\n",
    "\\\n",
    "\n",
    "## Instructions\n",
    "* This notebook contain blocks of code, you are required to complete those blocks(where required)\n",
    "* You are required to copy this notebook (\"copy to drive\" above) and complete the code.(DO NOT CHANGE THE NAME OF THE FUNCTIONS)"
   ]
  },
  {
   "cell_type": "markdown",
   "metadata": {
    "collapsed": true,
    "id": "QLtp15rqE-EU"
   },
   "source": [
    "# Part 1: Perceptron\n",
    "In this section, we will see how to implement a perceptron. Goal would be for you to delve into the mathematics.\n"
   ]
  },
  {
   "cell_type": "markdown",
   "metadata": {
    "id": "Zao4e-DphaGA"
   },
   "source": [
    "## Intro\n",
    "What's a perceptron? It's an algorithm modelled on biological computational model to classify things into binary classes. It's a supervides learning algorithm, meaning that you need to provide labelled data containing features and the actual classifications. A perceptron would take these features as input and spit out a binary value (0 or 1). While training the model with training data, we try to minimise the error and learn the parameters involved."
   ]
  },
  {
   "cell_type": "markdown",
   "metadata": {
    "id": "wDTUoAd6ixm-"
   },
   "source": [
    "**How does it work?**\\\n",
    "A perceptron is modelled on a biological neuron. A neuron has input dendrites and the output is carried by axons. Similarly, a perceptron takes inputs called \"features\". After processing, a perceptron gives output. For computation, it has a \"weight\" vector which is multipled with feature vector. An activation function is added to introduce some non linearities and the output is given out.\\\n",
    "It can be represented as: $$  f=\\sum_{i=1}^{m} w_ix_i +b$$\n",
    "\n",
    "Let's implement this simple function to give an output.\n",
    "\n"
   ]
  },
  {
   "cell_type": "code",
   "execution_count": 1,
   "metadata": {
    "id": "iXezofBIgzId"
   },
   "outputs": [],
   "source": [
    "import numpy as np\n",
    "\n",
    "class perceptron():\n",
    "    def __init__(self,num_input_features=8):\n",
    "        self.weights = np.random.randn(num_input_features)\n",
    "        self.bias = np.random.random()\n",
    "\n",
    "    def activation(self,x):\n",
    "        '''\n",
    "            Implement heavside step activation function here (google ;))\n",
    "\n",
    "        '''\n",
    "        if x >= 0:\n",
    "            t=1\n",
    "        else:\n",
    "            t=0\n",
    "        return t\n",
    "\n",
    "    def forward(self,x: np.ndarray):\n",
    "        '''\n",
    "            you have random initialized weights and bias\n",
    "            you can access then using `self.weights` and `self.bias`\n",
    "            you should use activation function before returning\n",
    "            \n",
    "            x : input features\n",
    "            return : a binary value as the output of the perceptron \n",
    "        '''\n",
    "        # YOUR CODE HERE\n",
    "        f=np.dot(self.weights,x)+self.bias\n",
    "        t=perceptron.activation(self,f)\n",
    "        return t\n",
    "        # YOUR CODE HERE"
   ]
  },
  {
   "cell_type": "code",
   "execution_count": 2,
   "metadata": {
    "id": "oSKwDFAyocVo"
   },
   "outputs": [],
   "source": [
    "np.random.seed(0)\n",
    "perc = perceptron(8)\n",
    "assert perc.forward(np.arange(8))==1"
   ]
  },
  {
   "cell_type": "markdown",
   "metadata": {
    "collapsed": true,
    "id": "NWTTg1e9r7uM"
   },
   "source": [
    "# Part 2: Linear Classifier\n",
    "In this section, we will see how to implement a linear Classifier.\n"
   ]
  },
  {
   "cell_type": "markdown",
   "metadata": {
    "id": "DYDO4GcHr7uM"
   },
   "source": [
    "## Intro\n"
   ]
  },
  {
   "cell_type": "markdown",
   "metadata": {
    "id": "-HFvjH06r7uN"
   },
   "source": [
    "**How does it work?**\n",
    "\n",
    "Linear Classifier uses the following function: $$Y = WX+b$$ Where, $W$ is a 2d array of weights with shape (#features, #classes).\n",
    "\n",
    "\n",
    "Let's implement this classifier.\n",
    "\n"
   ]
  },
  {
   "cell_type": "code",
   "execution_count": 3,
   "metadata": {
    "id": "9A13CEkGr7uN"
   },
   "outputs": [],
   "source": [
    "import numpy as np\n",
    "\n",
    "class LinearClassifier():\n",
    "    def __init__(self,num_input_features=32,num_classes=5):\n",
    "        self.weights = np.random.randn(num_classes,num_input_features)\n",
    "        self.bias = np.random.rand(num_classes,1)\n",
    "\n",
    "    def forward(self,x: np.ndarray):\n",
    "        '''\n",
    "            x: input features\n",
    "            you have random initialized weights and bias\n",
    "            you can access then using `self.weights` and `self.bias`\n",
    "            return an output vector of num_classes size\n",
    "        '''\n",
    "        # YOUR CODE HERE\n",
    "        output=np.array(5)\n",
    "        output=np.dot(self.weights,x)+self.bias\n",
    "        return output\n",
    "        # YOUR CODE HERE"
   ]
  },
  {
   "cell_type": "code",
   "execution_count": 4,
   "metadata": {
    "colab": {
     "base_uri": "https://localhost:8080/"
    },
    "id": "zgzPxyTsr7uN",
    "outputId": "71175820-63a4-41aa-aba1-76b1d19b6bdb"
   },
   "outputs": [
    {
     "data": {
      "text/plain": [
       "array([[  7.07730669],\n",
       "       [-10.24067722],\n",
       "       [  0.75398702],\n",
       "       [  9.8019519 ],\n",
       "       [  2.36684038]])"
      ]
     },
     "execution_count": 4,
     "metadata": {},
     "output_type": "execute_result"
    }
   ],
   "source": [
    "np.random.seed(0)\n",
    "lc = LinearClassifier()\n",
    "lc.forward(np.random.rand(32,1))\n",
    "# Should be close to:\n",
    "# array([[ 1.30208164,  5.58136003,  0.87793013, -4.7332119 ,  4.81172123]])"
   ]
  },
  {
   "cell_type": "markdown",
   "metadata": {
    "collapsed": true,
    "id": "ZVgOVzJetuqo"
   },
   "source": [
    "# Part 3: Loss Functions, Gradient descent and Backpropagation\n",
    "\n",
    "\n"
   ]
  },
  {
   "cell_type": "markdown",
   "metadata": {
    "id": "4pXryjpctuqy"
   },
   "source": [
    "## Intro\n",
    "\n",
    "Loss Functions tells how \"off\" the output od our model is. Based upon the application, you can use several different loss functions. Formally, A loss function is a function $L:(z,y)\\in\\mathbb{R}\\times Y\\longmapsto L(z,y)\\in\\mathbb{R}$ that takes as inputs the predicted value $z$ corresponding to the real data value yy and outputs how different they are We'll implement L1 loss, L2 loss, Logistic loss, hinge loss and cross entropy loss functions."
   ]
  },
  {
   "cell_type": "markdown",
   "metadata": {
    "id": "QGRb8BHotuqy"
   },
   "source": [
    "### **L1 loss**\n",
    "L1 loss is the linear loss function  $L = \\dfrac{1}{2}|y−z| $\n",
    "\n"
   ]
  },
  {
   "cell_type": "code",
   "execution_count": 5,
   "metadata": {
    "id": "YxVh6IL2tuqz"
   },
   "outputs": [],
   "source": [
    "import numpy as np\n",
    "def L1Loss(z,y):\n",
    "    '''\n",
    "        y : True output.\n",
    "        z : Predicted output.\n",
    "        return : L\n",
    "    '''\n",
    "    L=abs(y-z)/2\n",
    "    return L"
   ]
  },
  {
   "cell_type": "markdown",
   "metadata": {
    "id": "2xy8ZS84cKtQ"
   },
   "source": [
    "### **L2 loss**\n",
    "L2 loss is the quadratic loss function or the least square error function  $L = \\dfrac{1}{2}(y−z)^2 $\n",
    "\n"
   ]
  },
  {
   "cell_type": "code",
   "execution_count": 6,
   "metadata": {
    "id": "JThp5P-KcKtS"
   },
   "outputs": [],
   "source": [
    "import numpy as np\n",
    "def L2Loss(z,y):\n",
    "    '''\n",
    "        y : True output. \n",
    "        z : Predicted output. \n",
    "        return : L\n",
    "    '''\n",
    "    L=abs(y-z)**2/2\n",
    "    return L"
   ]
  },
  {
   "cell_type": "markdown",
   "metadata": {
    "id": "Z2JNLnWYcLSC"
   },
   "source": [
    "### **Hinge Loss**\n",
    "Hinge loss is: $ L = max( 0, 1 - yz ) $"
   ]
  },
  {
   "cell_type": "code",
   "execution_count": 7,
   "metadata": {
    "id": "gQ1YM4J-cLSC"
   },
   "outputs": [],
   "source": [
    "import numpy as np\n",
    "def hingeLoss(z,y):\n",
    "    '''\n",
    "        y : True output. \n",
    "        z : Predicted output. \n",
    "        return : L\n",
    "    '''\n",
    "    L=max(0,1-y*z)\n",
    "    return L"
   ]
  },
  {
   "cell_type": "markdown",
   "metadata": {
    "id": "m15_MjradMNY"
   },
   "source": [
    "### **Cross Entropy Loss**\n",
    "Another very famous loss function is Cross Entropy loss: $ L = −[ylog(z)+(1−y)log(1−z)] $."
   ]
  },
  {
   "cell_type": "code",
   "execution_count": 8,
   "metadata": {
    "id": "snJLqhszdMNY"
   },
   "outputs": [],
   "source": [
    "import numpy as np\n",
    "def CELoss(z,y):\n",
    "    '''\n",
    "        y : True output. \n",
    "        z : Predicted output. \n",
    "        return : L\n",
    "    '''\n",
    "    L=-1*[y*np.log(z)+ (1-y)*np.log(1-z)]\n",
    "    return L"
   ]
  },
  {
   "cell_type": "markdown",
   "metadata": {
    "id": "OsRPsfzxyEVL"
   },
   "source": [
    "### **0-1 Loss**\n",
    "Loss Function used by perceptron is: $ \\begin{cases} \n",
    "      0=z-y & z=y \\\\\n",
    "      1=\\dfrac{z-y}{z-y} & z\\neq y\n",
    "   \\end{cases} $."
   ]
  },
  {
   "cell_type": "code",
   "execution_count": 9,
   "metadata": {
    "id": "5sA7GxLHyEVM"
   },
   "outputs": [],
   "source": [
    "import numpy as np\n",
    "def zeroOneLoss(z,y):\n",
    "    '''\n",
    "        y : True output. \n",
    "        z : Predicted output. \n",
    "        return : L\n",
    "    '''\n",
    "    if z==y:\n",
    "      L=0\n",
    "    else:\n",
    "      L=1\n",
    "    return L "
   ]
  },
  {
   "cell_type": "markdown",
   "metadata": {
    "id": "CWhbibHcgRR8"
   },
   "source": [
    "## Cost Function\n",
    "The cost function $J$ is commonly used to assess the performance of a model, and is defined with the loss function $L$ as follows:\n",
    "$$\\boxed{J(\\theta)=\\sum_{i=1}^mL(h_\\theta(x^{(i)}), y^{(i)})}$$\n",
    "where $h_\\theta$ is the hypothesis function i.e. the function used to predict the output."
   ]
  },
  {
   "cell_type": "code",
   "execution_count": 30,
   "metadata": {
    "colab": {
     "base_uri": "https://localhost:8080/"
    },
    "id": "SSbmhW4og97t",
    "outputId": "0abc510b-0775-4d71-aad6-08bc4d8aee82"
   },
   "outputs": [
    {
     "name": "stdout",
     "output_type": "stream",
     "text": [
      "0.35000000000000003\n"
     ]
    }
   ],
   "source": [
    "lossFunctions = {\n",
    "    \"l1\" : L1Loss,\n",
    "    \"l2\" : L2Loss,\n",
    "    \"hinge\" : hingeLoss,\n",
    "    \"cross-entropy\" : CELoss,\n",
    "    \"0-1\" : zeroOneLoss\n",
    "}\n",
    "\n",
    "def cost(Z : np.ndarray, Y : np.ndarray, loss : str):\n",
    "    '''\n",
    "        Z : a numpy array of predictions.\n",
    "        Y : a numpy array of true values.\n",
    "        return : A numpy array of costs calculated for each example.\n",
    "    '''\n",
    "    loss_func = lossFunctions[loss]\n",
    "    # YOUR CODE HERE\n",
    "    J = 0\n",
    "    # YOUR CODE HERE\n",
    "    n=len(Y)\n",
    "#     print(n)\n",
    "    for i in range(0,n):\n",
    "      t=loss_func(Z[i],Y[i])\n",
    "      J= J + t\n",
    "    \n",
    "    return J\n",
    "\n",
    "print(cost([1,2,3],[0.9,1.5,2.9],\"l1\"))"
   ]
  },
  {
   "cell_type": "markdown",
   "metadata": {
    "id": "upsN7A0zjGqx"
   },
   "source": [
    "## Gradient Descent and Back Propagation\n",
    "Gradient Descent is an algorithm that minimizes the loss function by calculating it's gradient. By noting $\\alpha\\in\\mathbb{R}$ the learning rate, the update rule for gradient descent is expressed with the learning rate $\\alpha$ and the cost function $J$ as follows:\n",
    "\n",
    "$$\\boxed{ W \\longleftarrow W -\\alpha\\nabla J( W )}$$\n",
    "​\n"
   ]
  },
  {
   "cell_type": "markdown",
   "metadata": {
    "id": "AFCN-fYCqidi"
   },
   "source": [
    "But we need to find the partial derivative of Loss function wrt every parameter to know what is the slight change that we need to apply to our parameters. This becomes particularly hard if we have more than 1 layer in our algorithm. Here's where **Back Propagation** comes in. It's a way to find gradients wrt every parameter using the chain rule. Backpropagation is a method to update the weights in the neural network by taking into account the actual output and the desired output. The derivative with respect to weight ww is computed using chain rule and is of the following form:\n",
    "\n",
    "$$\\boxed{\\frac{\\partial L(z,y)}{\\partial w}=\\frac{\\partial L(z,y)}{\\partial a}\\times\\frac{\\partial a}{\\partial z}\\times\\frac{\\partial z}{\\partial w}}$$\n",
    "​\n",
    " \n",
    "As a result, the weight is updated as follows:\n",
    "\n",
    "$$\\boxed{w\\longleftarrow w-\\alpha\\frac{\\partial L(z,y)}{\\partial w}}$$\n",
    "\n",
    "So, In a neural network, weights are updated as follows:\n",
    "\n",
    "* Step 1: Take a batch of training data.\n",
    "* Step 2: Perform forward propagation to obtain the corresponding loss.\n",
    "* Step 3: Backpropagate the loss to get the gradients.\n",
    "* Step 4: Use the gradients to update the weights of the network.\n",
    "​\n",
    "\n",
    "Bonus Problem\n",
    " \n",
    "Now, Assuming that you know Back Propagation (read a bit about it, if you don't), we'll now implement an image classification model on CIFAR-10."
   ]
  },
  {
   "cell_type": "markdown",
   "metadata": {
    "id": "sJoG5kkYopRN"
   },
   "source": [
    "# **Bonus Problem**\n",
    "\n",
    "Now, Assuming that you know Back Propagation (read a bit about it, if you don't), we'll now implement an image classification model on CIFAR-10."
   ]
  },
  {
   "cell_type": "code",
   "execution_count": 12,
   "metadata": {
    "colab": {
     "base_uri": "https://localhost:8080/"
    },
    "id": "_4-4RceVsor_",
    "outputId": "b81be8e3-64a9-4a3d-b037-ba78f1507e6a"
   },
   "outputs": [
    {
     "name": "stdout",
     "output_type": "stream",
     "text": [
      "2.9.0\n"
     ]
    }
   ],
   "source": [
    "import tensorflow as tf  \n",
    " \n",
    "# Display the version\n",
    "print(tf.__version__)    \n",
    " \n",
    "# other imports\n",
    "import numpy as np\n",
    "import matplotlib.pyplot as plt\n",
    "from tensorflow.keras.layers import Input, Conv2D, Dense, Flatten, Dropout\n",
    "from tensorflow.keras.layers import GlobalMaxPooling2D, MaxPooling2D\n",
    "from tensorflow.keras.layers import BatchNormalization\n",
    "from tensorflow.keras.models import Model"
   ]
  },
  {
   "cell_type": "code",
   "execution_count": 13,
   "metadata": {
    "colab": {
     "base_uri": "https://localhost:8080/"
    },
    "id": "yyplk5PLEUsJ",
    "outputId": "ccf41222-0fab-43d8-94d9-515be784a2c3"
   },
   "outputs": [
    {
     "name": "stdout",
     "output_type": "stream",
     "text": [
      "Downloading data from https://www.cs.toronto.edu/~kriz/cifar-10-python.tar.gz\n",
      "170498071/170498071 [==============================] - 42s 0us/step\n",
      "(50000, 32, 32, 3) (50000, 1) (10000, 32, 32, 3) (10000, 1)\n"
     ]
    }
   ],
   "source": [
    "# Load in the data\n",
    "cifar10 = tf.keras.datasets.cifar10\n",
    " \n",
    "# Distribute it to train and test set\n",
    "(x_train, y_train), (x_test, y_test) = cifar10.load_data()\n",
    "print(x_train.shape, y_train.shape, x_test.shape, y_test.shape)\n",
    "\n",
    "# Reduce pixel values\n",
    "x_train, x_test = x_train / 255.0, x_test / 255.0\n",
    " \n",
    "# flatten the label values\n",
    "y_train, y_test = y_train.flatten(), y_test.flatten()"
   ]
  },
  {
   "cell_type": "code",
   "execution_count": 14,
   "metadata": {
    "id": "qQhkATYhEkkC"
   },
   "outputs": [
    {
     "data": {
      "image/png": "[encoded data removed]",
      "text/plain": [
       "<Figure size 864x864 with 25 Axes>"
      ]
     },
     "metadata": {},
     "output_type": "display_data"
    }
   ],
   "source": [
    "'''visualize data by plotting images'''\n",
    "# YOUR CODE HERE\n",
    "plt.figure(figsize=(12,12))\n",
    "\n",
    "start_index=0\n",
    "\n",
    "for i in range(25):\n",
    "    plt.subplot(5, 5, i+1)\n",
    "    plt.grid(False)\n",
    "    plt.xticks([])\n",
    "    plt.yticks([])\n",
    "    plt.imshow(x_train[i])\n",
    "plt.show()\n",
    "# YOUR CODE HERE"
   ]
  },
  {
   "cell_type": "code",
   "execution_count": 97,
   "metadata": {
    "colab": {
     "base_uri": "https://localhost:8080/",
     "height": 217
    },
    "id": "yJgho2AEBFbx",
    "outputId": "7850a728-d9b9-4673-c5bc-fef295e4f505"
   },
   "outputs": [
    {
     "name": "stdout",
     "output_type": "stream",
     "text": [
      "number of classes: 10\n",
      "(32, 32, 3)\n",
      "Model: \"model_25\"\n",
      "_________________________________________________________________\n",
      " Layer (type)                Output Shape              Param #   \n",
      "=================================================================\n",
      " input_38 (InputLayer)       [(None, 32, 32, 3)]       0         \n",
      "                                                                 \n",
      " conv2d_176 (Conv2D)         (None, 32, 32, 32)        896       \n",
      "                                                                 \n",
      " batch_normalization_146 (Ba  (None, 32, 32, 32)       128       \n",
      " tchNormalization)                                               \n",
      "                                                                 \n",
      " max_pooling2d_108 (MaxPooli  (None, 16, 16, 32)       0         \n",
      " ng2D)                                                           \n",
      "                                                                 \n",
      " conv2d_177 (Conv2D)         (None, 16, 16, 64)        18496     \n",
      "                                                                 \n",
      " batch_normalization_147 (Ba  (None, 16, 16, 64)       256       \n",
      " tchNormalization)                                               \n",
      "                                                                 \n",
      " max_pooling2d_109 (MaxPooli  (None, 8, 8, 64)         0         \n",
      " ng2D)                                                           \n",
      "                                                                 \n",
      " conv2d_178 (Conv2D)         (None, 8, 8, 128)         73856     \n",
      "                                                                 \n",
      " batch_normalization_148 (Ba  (None, 8, 8, 128)        512       \n",
      " tchNormalization)                                               \n",
      "                                                                 \n",
      " max_pooling2d_110 (MaxPooli  (None, 4, 4, 128)        0         \n",
      " ng2D)                                                           \n",
      "                                                                 \n",
      " flatten_25 (Flatten)        (None, 2048)              0         \n",
      "                                                                 \n",
      " dropout_50 (Dropout)        (None, 2048)              0         \n",
      "                                                                 \n",
      " dense_50 (Dense)            (None, 1024)              2098176   \n",
      "                                                                 \n",
      " dropout_51 (Dropout)        (None, 1024)              0         \n",
      "                                                                 \n",
      " dense_51 (Dense)            (None, 10)                10250     \n",
      "                                                                 \n",
      "=================================================================\n",
      "Total params: 2,202,570\n",
      "Trainable params: 2,202,122\n",
      "Non-trainable params: 448\n",
      "_________________________________________________________________\n"
     ]
    }
   ],
   "source": [
    "\n",
    "# number of classes\n",
    "K = len(set(y_train))\n",
    "'''\n",
    " calculate total number of classes\n",
    " for output layer\n",
    "'''\n",
    "print(\"number of classes:\", K)\n",
    "''' \n",
    " Build the model using the functional API\n",
    " input layer\n",
    "'''\n",
    "\n",
    "#building the functional input layer\n",
    "#the following code(till the end of the cell only) was written with the help of the following sites:\n",
    "'''\n",
    "https://machinelearningmastery.com/keras-functional-api-deep-learning/\n",
    "https://medium.com/analytics-vidhya/image-classification-using-tensorflow2-0-with-cifar-10-dataset-cc595ceb0082\n",
    "https://www.geeksforgeeks.org/cifar-10-image-classification-in-tensorflow/\n",
    "\n",
    "'''   \n",
    "print(x_train[0].shape)\n",
    "encoder_input = Input(shape=(32,32,3))\n",
    "cov1= Conv2D(32, (3, 3), activation='relu', padding='same')(encoder_input)\n",
    "cov1 = BatchNormalization()(cov1)\n",
    "pool1 = MaxPooling2D((2, 2))(cov1)\n",
    " \n",
    "cov2 = Conv2D(64, (3, 3), activation='relu', padding='same')(pool1)\n",
    "cov2 = BatchNormalization()(cov2)\n",
    "pool2 = MaxPooling2D((2, 2))(cov2)\n",
    " \n",
    "cov3 = Conv2D(128, (3, 3), activation='relu', padding='same')(pool2)\n",
    "cov3 = BatchNormalization()(cov3)\n",
    "pool3 = MaxPooling2D((2, 2))(cov3)\n",
    "\n",
    "flat = Flatten()(pool3)\n",
    "drop = Dropout(0.2)(flat)\n",
    " \n",
    "'''Hidden layer'''\n",
    "# YOUR CODE HERE\n",
    "hidden1 = Dense(1024, activation='relu')(drop)\n",
    "hidden1 = Dropout(0.2)(hidden1)\n",
    "# YOUR CODE HERE\n",
    " \n",
    "\"\"\"last hidden layer i.e.. output layer\"\"\"\n",
    "# YOUR CODE HERE\n",
    "output = Dense(K, activation='softmax')(hidden1)\n",
    " \n",
    "model = Model(encoder_input, output)\n",
    " # YOUR CODE HERE\n",
    " \n",
    "'''model description'''\n",
    "model.summary()"
   ]
  },
  {
   "cell_type": "code",
   "execution_count": 98,
   "metadata": {
    "id": "PLc4Bay65TyA"
   },
   "outputs": [],
   "source": [
    "# Compile\n",
    "model.compile(\n",
    "    optimizer='sgd',\n",
    "    loss='sparse_categorical_crossentropy',\n",
    "    metrics=['accuracy']\n",
    ")"
   ]
  },
  {
   "cell_type": "code",
   "execution_count": 100,
   "metadata": {
    "id": "U0fGsDCRsQrn"
   },
   "outputs": [
    {
     "name": "stdout",
     "output_type": "stream",
     "text": [
      "Epoch 1/10\n",
      "1563/1563 [==============================] - 72s 46ms/step - loss: 1.0968 - accuracy: 0.6102\n",
      "Epoch 2/10\n",
      "1563/1563 [==============================] - 70s 45ms/step - loss: 0.9290 - accuracy: 0.6732\n",
      "Epoch 3/10\n",
      "1563/1563 [==============================] - 65s 41ms/step - loss: 0.8161 - accuracy: 0.7134\n",
      "Epoch 4/10\n",
      "1563/1563 [==============================] - 67s 43ms/step - loss: 0.7348 - accuracy: 0.7401\n",
      "Epoch 5/10\n",
      "1563/1563 [==============================] - 64s 41ms/step - loss: 0.6643 - accuracy: 0.7681\n",
      "Epoch 6/10\n",
      "1563/1563 [==============================] - 65s 41ms/step - loss: 0.6062 - accuracy: 0.7871\n",
      "Epoch 7/10\n",
      "1563/1563 [==============================] - 62s 40ms/step - loss: 0.5537 - accuracy: 0.8052\n",
      "Epoch 8/10\n",
      "1563/1563 [==============================] - 60s 38ms/step - loss: 0.5018 - accuracy: 0.8222\n",
      "Epoch 9/10\n",
      "1563/1563 [==============================] - 60s 38ms/step - loss: 0.4576 - accuracy: 0.8378\n",
      "Epoch 10/10\n",
      "1563/1563 [==============================] - 60s 38ms/step - loss: 0.4198 - accuracy: 0.8510\n"
     ]
    },
    {
     "data": {
      "text/plain": [
       "<keras.callbacks.History at 0x1ee992c4ca0>"
      ]
     },
     "execution_count": 100,
     "metadata": {},
     "output_type": "execute_result"
    }
   ],
   "source": [
    "# Fit\n",
    "model.fit(x_train,y_train,epochs=10)"
   ]
  },
  {
   "cell_type": "code",
   "execution_count": 96,
   "metadata": {
    "id": "RDq_RE6osSh8"
   },
   "outputs": [
    {
     "name": "stdout",
     "output_type": "stream",
     "text": [
      "1/1 [==============================] - 0s 30ms/step\n",
      "Original label is cat and predicted label is cat\n"
     ]
    },
    {
     "data": {
      "image/png": "[encoded data removed]",
      "text/plain": [
       "<Figure size 432x288 with 1 Axes>"
      ]
     },
     "metadata": {
      "needs_background": "light"
     },
     "output_type": "display_data"
    }
   ],
   "source": [
    "# label mapping\n",
    " \n",
    "labels = '''airplane automobile bird cat deerdog frog horseship truck'''.split()\n",
    " \n",
    "# select the image from our test dataset\n",
    "image_number = 0\n",
    " \n",
    "# display the image\n",
    "plt.imshow(x_test[image_number])\n",
    " \n",
    "# load the image in an array\n",
    "n = np.array(x_test[image_number])\n",
    " \n",
    "# reshape it\n",
    "p = n.reshape(1, 32, 32, 3)\n",
    " \n",
    "# pass in the network for prediction and\n",
    "# save the predicted label\n",
    "predicted_label = labels[model.predict(p).argmax()]\n",
    " \n",
    "# load the original label\n",
    "original_label = labels[y_test[image_number]]\n",
    " \n",
    "# display the result\n",
    "print(\"Original label is {} and predicted label is {}\".format(\n",
    "    original_label, predicted_label))"
   ]
  },
  {
   "cell_type": "code",
   "execution_count": null,
   "metadata": {},
   "outputs": [],
   "source": []
  }
 ],
 "metadata": {
  "colab": {
   "collapsed_sections": [
    "QLtp15rqE-EU",
    "Zao4e-DphaGA",
    "NWTTg1e9r7uM",
    "DYDO4GcHr7uM",
    "ZVgOVzJetuqo"
   ],
   "name": "Copy of Copy of DL_Stamatics_A2.ipynb",
   "provenance": []
  },
  "kernelspec": {
   "display_name": "Python 3 (ipykernel)",
   "language": "python",
   "name": "python3"
  },
  "language_info": {
   "codemirror_mode": {
    "name": "ipython",
    "version": 3
   },
   "file_extension": ".py",
   "mimetype": "text/x-python",
   "name": "python",
   "nbconvert_exporter": "python",
   "pygments_lexer": "ipython3",
   "version": "3.8.3"
  }
 },
 "nbformat": 4,
 "nbformat_minor": 1
}
